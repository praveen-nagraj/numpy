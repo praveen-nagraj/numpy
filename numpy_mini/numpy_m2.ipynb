{
  "nbformat": 4,
  "nbformat_minor": 0,
  "metadata": {
    "colab": {
      "provenance": []
    },
    "kernelspec": {
      "name": "python3",
      "display_name": "Python 3"
    },
    "language_info": {
      "name": "python"
    }
  },
  "cells": [
    {
      "cell_type": "markdown",
      "source": [
        "Importing Numpy Library to the module to perform operations"
      ],
      "metadata": {
        "id": "lzJL3Wo8Oobt"
      }
    },
    {
      "cell_type": "code",
      "source": [
        "import numpy as np"
      ],
      "metadata": {
        "id": "MgWe6lwBPFhq"
      },
      "execution_count": null,
      "outputs": []
    },
    {
      "cell_type": "code",
      "source": [
        "\n",
        "\n",
        "arr = np.array([10,20,30])\n",
        "arr"
      ],
      "metadata": {
        "colab": {
          "base_uri": "https://localhost:8080/"
        },
        "id": "VlC3Fp3WOzxR",
        "outputId": "f51aabec-f5aa-4240-bcf3-493f6eaea5de"
      },
      "execution_count": null,
      "outputs": [
        {
          "output_type": "execute_result",
          "data": {
            "text/plain": [
              "array([10, 20, 30])"
            ]
          },
          "metadata": {},
          "execution_count": 117
        }
      ]
    },
    {
      "cell_type": "code",
      "source": [
        "\n",
        "arr =np.array([10,20.,30])\n",
        "arr"
      ],
      "metadata": {
        "colab": {
          "base_uri": "https://localhost:8080/"
        },
        "id": "h8iqGt8dPOzf",
        "outputId": "c4bf7531-1a36-45fa-922d-1b38a792de5c"
      },
      "execution_count": null,
      "outputs": [
        {
          "output_type": "execute_result",
          "data": {
            "text/plain": [
              "array([10., 20., 30.])"
            ]
          },
          "metadata": {},
          "execution_count": 118
        }
      ]
    },
    {
      "cell_type": "markdown",
      "source": [
        "Here we used heterogeneous value instead of homogeneous value. i,e We used combination of int and float as values. As the operation is done the array will be converted to float because the float holds the higher priority in array."
      ],
      "metadata": {
        "id": "BG4nI26gPXpN"
      }
    },
    {
      "cell_type": "markdown",
      "source": [
        "array priority : bool < int < float < complex < str < object -> set{} & dict{}"
      ],
      "metadata": {
        "id": "M6e8C4-PP8eW"
      }
    },
    {
      "cell_type": "code",
      "source": [
        "\n",
        "arr = np.array([10+2j,20,30])\n",
        "arr"
      ],
      "metadata": {
        "colab": {
          "base_uri": "https://localhost:8080/"
        },
        "id": "aCRMQcfHQWoD",
        "outputId": "32ce52ac-200e-4bbf-bd36-14f86d277b4c"
      },
      "execution_count": null,
      "outputs": [
        {
          "output_type": "execute_result",
          "data": {
            "text/plain": [
              "array([10.+2.j, 20.+0.j, 30.+0.j])"
            ]
          },
          "metadata": {},
          "execution_count": 119
        }
      ]
    },
    {
      "cell_type": "markdown",
      "source": [
        "creating 2D array"
      ],
      "metadata": {
        "id": "cgJdrv_AZTC1"
      }
    },
    {
      "cell_type": "code",
      "source": [
        "arr_2d = np.array([[10,20,30],[30,40,50]])\n",
        "arr_2d"
      ],
      "metadata": {
        "colab": {
          "base_uri": "https://localhost:8080/"
        },
        "id": "ZEs4En_yZWGj",
        "outputId": "7eec1b6d-1788-414f-d822-aa889457ea80"
      },
      "execution_count": null,
      "outputs": [
        {
          "output_type": "execute_result",
          "data": {
            "text/plain": [
              "array([[10, 20, 30],\n",
              "       [30, 40, 50]])"
            ]
          },
          "metadata": {},
          "execution_count": 120
        }
      ]
    },
    {
      "cell_type": "markdown",
      "source": [
        "Creating 3D array"
      ],
      "metadata": {
        "id": "leACxkzjZqPz"
      }
    },
    {
      "cell_type": "code",
      "source": [
        "arr_3d = np.array([[[10,20,30],[30,40,50],[23,34,45]],\n",
        "                  [[100,200,300],[400,500,600],[23,45,67]]])\n",
        "arr_3d"
      ],
      "metadata": {
        "colab": {
          "base_uri": "https://localhost:8080/"
        },
        "id": "mPalCt3VZtGJ",
        "outputId": "2ad59871-47ca-44ac-b28f-c38a70996314"
      },
      "execution_count": null,
      "outputs": [
        {
          "output_type": "execute_result",
          "data": {
            "text/plain": [
              "array([[[ 10,  20,  30],\n",
              "        [ 30,  40,  50],\n",
              "        [ 23,  34,  45]],\n",
              "\n",
              "       [[100, 200, 300],\n",
              "        [400, 500, 600],\n",
              "        [ 23,  45,  67]]])"
            ]
          },
          "metadata": {},
          "execution_count": 121
        }
      ]
    },
    {
      "cell_type": "markdown",
      "source": [
        "variables for array"
      ],
      "metadata": {
        "id": "1kufBiv5a-no"
      }
    },
    {
      "cell_type": "markdown",
      "source": [
        "ndim - used to check dimensions of an array"
      ],
      "metadata": {
        "id": "ekF96-z3bJd1"
      }
    },
    {
      "cell_type": "code",
      "source": [
        "arr.ndim\n",
        "arr_2d.ndim\n",
        "arr_3d.ndim"
      ],
      "metadata": {
        "colab": {
          "base_uri": "https://localhost:8080/"
        },
        "id": "MSm_oDb_PMxD",
        "outputId": "170d4ebc-a412-451e-beec-6ddf1835a361"
      },
      "execution_count": null,
      "outputs": [
        {
          "output_type": "execute_result",
          "data": {
            "text/plain": [
              "3"
            ]
          },
          "metadata": {},
          "execution_count": 122
        }
      ]
    },
    {
      "cell_type": "markdown",
      "source": [
        "Reshaping 1D array into nD array"
      ],
      "metadata": {
        "id": "jkywT2nuWMpH"
      }
    },
    {
      "cell_type": "code",
      "source": [
        "arr = np.array([10,20,30,40,50,60])\n",
        "arr\n"
      ],
      "metadata": {
        "colab": {
          "base_uri": "https://localhost:8080/"
        },
        "id": "QQ0SkHZlWwB9",
        "outputId": "1237d992-8400-4031-802a-6367b3e3feab"
      },
      "execution_count": null,
      "outputs": [
        {
          "output_type": "execute_result",
          "data": {
            "text/plain": [
              "array([10, 20, 30, 40, 50, 60])"
            ]
          },
          "metadata": {},
          "execution_count": 123
        }
      ]
    },
    {
      "cell_type": "markdown",
      "source": [
        "converting 1D to 2D"
      ],
      "metadata": {
        "id": "j0vMwb70XEyY"
      }
    },
    {
      "cell_type": "code",
      "source": [
        "arr.reshape(2,3)"
      ],
      "metadata": {
        "colab": {
          "base_uri": "https://localhost:8080/"
        },
        "id": "4nQ6CklPXwXc",
        "outputId": "175a1ea3-0a5a-4d44-d9dd-d426e3b30dea"
      },
      "execution_count": null,
      "outputs": [
        {
          "output_type": "execute_result",
          "data": {
            "text/plain": [
              "array([[10, 20, 30],\n",
              "       [40, 50, 60]])"
            ]
          },
          "metadata": {},
          "execution_count": 124
        }
      ]
    },
    {
      "cell_type": "code",
      "source": [
        "arr.reshape(3,2)"
      ],
      "metadata": {
        "colab": {
          "base_uri": "https://localhost:8080/"
        },
        "id": "Vc6wnlmyYFa0",
        "outputId": "d1f10e14-ec8e-4984-e47c-d1dfc2c9cdee"
      },
      "execution_count": null,
      "outputs": [
        {
          "output_type": "execute_result",
          "data": {
            "text/plain": [
              "array([[10, 20],\n",
              "       [30, 40],\n",
              "       [50, 60]])"
            ]
          },
          "metadata": {},
          "execution_count": 125
        }
      ]
    },
    {
      "cell_type": "code",
      "source": [
        "arr.reshape(1,6)"
      ],
      "metadata": {
        "colab": {
          "base_uri": "https://localhost:8080/"
        },
        "id": "Yyhk2NdDYI0W",
        "outputId": "aa59f9e5-1d92-4da8-bd44-62ee3fc2dc1c"
      },
      "execution_count": null,
      "outputs": [
        {
          "output_type": "execute_result",
          "data": {
            "text/plain": [
              "array([[10, 20, 30, 40, 50, 60]])"
            ]
          },
          "metadata": {},
          "execution_count": 126
        }
      ]
    },
    {
      "cell_type": "code",
      "source": [
        "arr.reshape(6,1)"
      ],
      "metadata": {
        "colab": {
          "base_uri": "https://localhost:8080/"
        },
        "id": "wmZaHxxqYNcp",
        "outputId": "6237db3a-8aaf-49ee-9535-b28765cd637d"
      },
      "execution_count": null,
      "outputs": [
        {
          "output_type": "execute_result",
          "data": {
            "text/plain": [
              "array([[10],\n",
              "       [20],\n",
              "       [30],\n",
              "       [40],\n",
              "       [50],\n",
              "       [60]])"
            ]
          },
          "metadata": {},
          "execution_count": 127
        }
      ]
    },
    {
      "cell_type": "markdown",
      "source": [
        "converting 1D to 3D"
      ],
      "metadata": {
        "id": "QFTOUAPzX6YG"
      }
    },
    {
      "cell_type": "code",
      "source": [
        "arr.reshape(1,3,2)"
      ],
      "metadata": {
        "colab": {
          "base_uri": "https://localhost:8080/"
        },
        "id": "vtoyIht0X8-q",
        "outputId": "2b8316ac-1725-4871-dde7-f886968cabe2"
      },
      "execution_count": null,
      "outputs": [
        {
          "output_type": "execute_result",
          "data": {
            "text/plain": [
              "array([[[10, 20],\n",
              "        [30, 40],\n",
              "        [50, 60]]])"
            ]
          },
          "metadata": {},
          "execution_count": 128
        }
      ]
    },
    {
      "cell_type": "code",
      "source": [
        "arr.reshape(1,2,3)"
      ],
      "metadata": {
        "colab": {
          "base_uri": "https://localhost:8080/"
        },
        "id": "Ev6n9ByAYTgi",
        "outputId": "096fefb8-4418-4975-9dcc-77c3db2ff1ff"
      },
      "execution_count": null,
      "outputs": [
        {
          "output_type": "execute_result",
          "data": {
            "text/plain": [
              "array([[[10, 20, 30],\n",
              "        [40, 50, 60]]])"
            ]
          },
          "metadata": {},
          "execution_count": 129
        }
      ]
    },
    {
      "cell_type": "code",
      "source": [
        "arr.reshape(2,3,1)"
      ],
      "metadata": {
        "colab": {
          "base_uri": "https://localhost:8080/"
        },
        "id": "a4Hfs8vmYYnU",
        "outputId": "3bb50ef6-b200-4245-a5d4-96467c06d85b"
      },
      "execution_count": null,
      "outputs": [
        {
          "output_type": "execute_result",
          "data": {
            "text/plain": [
              "array([[[10],\n",
              "        [20],\n",
              "        [30]],\n",
              "\n",
              "       [[40],\n",
              "        [50],\n",
              "        [60]]])"
            ]
          },
          "metadata": {},
          "execution_count": 130
        }
      ]
    },
    {
      "cell_type": "markdown",
      "source": [
        "converting nD to 1D using reshape()"
      ],
      "metadata": {
        "id": "uBRNazVxYggV"
      }
    },
    {
      "cell_type": "code",
      "source": [
        "arr_3d.reshape(-1)"
      ],
      "metadata": {
        "colab": {
          "base_uri": "https://localhost:8080/"
        },
        "id": "wdaoSM3NYmW2",
        "outputId": "2dd1a697-9cfa-446f-a35d-c56bddcbeb60"
      },
      "execution_count": null,
      "outputs": [
        {
          "output_type": "execute_result",
          "data": {
            "text/plain": [
              "array([ 10,  20,  30,  30,  40,  50,  23,  34,  45, 100, 200, 300, 400,\n",
              "       500, 600,  23,  45,  67])"
            ]
          },
          "metadata": {},
          "execution_count": 131
        }
      ]
    },
    {
      "cell_type": "markdown",
      "source": [
        "converting nD to 1D using flatten()"
      ],
      "metadata": {
        "id": "qPzPjdT-Y_Lf"
      }
    },
    {
      "cell_type": "code",
      "source": [
        "arr_3d.flatten()"
      ],
      "metadata": {
        "colab": {
          "base_uri": "https://localhost:8080/"
        },
        "id": "U-OWe5FAZFgM",
        "outputId": "90bf8c2b-c0b1-445f-a6ce-58847608b17b"
      },
      "execution_count": null,
      "outputs": [
        {
          "output_type": "execute_result",
          "data": {
            "text/plain": [
              "array([ 10,  20,  30,  30,  40,  50,  23,  34,  45, 100, 200, 300, 400,\n",
              "       500, 600,  23,  45,  67])"
            ]
          },
          "metadata": {},
          "execution_count": 132
        }
      ]
    },
    {
      "cell_type": "markdown",
      "source": [
        "converting nD to 1D using ravel()"
      ],
      "metadata": {
        "id": "pw5NJ8eCZMhP"
      }
    },
    {
      "cell_type": "code",
      "source": [
        "arr_3d.ravel()"
      ],
      "metadata": {
        "colab": {
          "base_uri": "https://localhost:8080/"
        },
        "id": "sD8bi4lCZPRl",
        "outputId": "ce1258df-28e9-4af0-818f-195c4416f3ba"
      },
      "execution_count": null,
      "outputs": [
        {
          "output_type": "execute_result",
          "data": {
            "text/plain": [
              "array([ 10,  20,  30,  30,  40,  50,  23,  34,  45, 100, 200, 300, 400,\n",
              "       500, 600,  23,  45,  67])"
            ]
          },
          "metadata": {},
          "execution_count": 133
        }
      ]
    },
    {
      "cell_type": "code",
      "source": [
        "arr_2d.reshape(-1)"
      ],
      "metadata": {
        "colab": {
          "base_uri": "https://localhost:8080/"
        },
        "id": "10VM8z_RZbe2",
        "outputId": "635ea587-6d2b-467e-9a64-329603544c77"
      },
      "execution_count": null,
      "outputs": [
        {
          "output_type": "execute_result",
          "data": {
            "text/plain": [
              "array([10, 20, 30, 30, 40, 50])"
            ]
          },
          "metadata": {},
          "execution_count": 134
        }
      ]
    },
    {
      "cell_type": "code",
      "source": [
        "arr_2d.flatten()"
      ],
      "metadata": {
        "colab": {
          "base_uri": "https://localhost:8080/"
        },
        "id": "I7PR5eAlZfqy",
        "outputId": "b32ddc6b-a3f7-4e0d-df20-0ae59ee4c300"
      },
      "execution_count": null,
      "outputs": [
        {
          "output_type": "execute_result",
          "data": {
            "text/plain": [
              "array([10, 20, 30, 30, 40, 50])"
            ]
          },
          "metadata": {},
          "execution_count": 135
        }
      ]
    },
    {
      "cell_type": "code",
      "source": [
        "arr_2d.ravel()"
      ],
      "metadata": {
        "colab": {
          "base_uri": "https://localhost:8080/"
        },
        "id": "IXkHPyhVZkOL",
        "outputId": "d3eaea61-f7f6-4510-fd50-6b3992dfd311"
      },
      "execution_count": null,
      "outputs": [
        {
          "output_type": "execute_result",
          "data": {
            "text/plain": [
              "array([10, 20, 30, 30, 40, 50])"
            ]
          },
          "metadata": {},
          "execution_count": 136
        }
      ]
    },
    {
      "cell_type": "markdown",
      "source": [
        "generating series of number using arange"
      ],
      "metadata": {
        "id": "5Yh1md9HcxGA"
      }
    },
    {
      "cell_type": "code",
      "source": [
        "np.arange(2,10,0.5)"
      ],
      "metadata": {
        "colab": {
          "base_uri": "https://localhost:8080/"
        },
        "id": "T8Htci4wcl8Z",
        "outputId": "d248b807-d349-41fb-81e0-14884182c57b"
      },
      "execution_count": null,
      "outputs": [
        {
          "output_type": "execute_result",
          "data": {
            "text/plain": [
              "array([2. , 2.5, 3. , 3.5, 4. , 4.5, 5. , 5.5, 6. , 6.5, 7. , 7.5, 8. ,\n",
              "       8.5, 9. , 9.5])"
            ]
          },
          "metadata": {},
          "execution_count": 137
        }
      ]
    },
    {
      "cell_type": "code",
      "source": [
        "np.arange(2,10)"
      ],
      "metadata": {
        "colab": {
          "base_uri": "https://localhost:8080/"
        },
        "id": "12SZ3bx1dGoK",
        "outputId": "e820cc9a-eea8-4bd6-cf58-cc21b3990d27"
      },
      "execution_count": null,
      "outputs": [
        {
          "output_type": "execute_result",
          "data": {
            "text/plain": [
              "array([2, 3, 4, 5, 6, 7, 8, 9])"
            ]
          },
          "metadata": {},
          "execution_count": 138
        }
      ]
    },
    {
      "cell_type": "code",
      "source": [
        "np.arange(1,101).reshape(10,10)"
      ],
      "metadata": {
        "colab": {
          "base_uri": "https://localhost:8080/"
        },
        "id": "CmGrcmb8dTTG",
        "outputId": "53c047ad-338e-412c-bde9-3759636c11cd"
      },
      "execution_count": null,
      "outputs": [
        {
          "output_type": "execute_result",
          "data": {
            "text/plain": [
              "array([[  1,   2,   3,   4,   5,   6,   7,   8,   9,  10],\n",
              "       [ 11,  12,  13,  14,  15,  16,  17,  18,  19,  20],\n",
              "       [ 21,  22,  23,  24,  25,  26,  27,  28,  29,  30],\n",
              "       [ 31,  32,  33,  34,  35,  36,  37,  38,  39,  40],\n",
              "       [ 41,  42,  43,  44,  45,  46,  47,  48,  49,  50],\n",
              "       [ 51,  52,  53,  54,  55,  56,  57,  58,  59,  60],\n",
              "       [ 61,  62,  63,  64,  65,  66,  67,  68,  69,  70],\n",
              "       [ 71,  72,  73,  74,  75,  76,  77,  78,  79,  80],\n",
              "       [ 81,  82,  83,  84,  85,  86,  87,  88,  89,  90],\n",
              "       [ 91,  92,  93,  94,  95,  96,  97,  98,  99, 100]])"
            ]
          },
          "metadata": {},
          "execution_count": 139
        }
      ]
    },
    {
      "cell_type": "code",
      "source": [
        "np.arange(1,101).reshape(10,10).size"
      ],
      "metadata": {
        "colab": {
          "base_uri": "https://localhost:8080/"
        },
        "id": "ufA070EeeAM9",
        "outputId": "8c06d305-7a84-491e-829d-302e336c8274"
      },
      "execution_count": null,
      "outputs": [
        {
          "output_type": "execute_result",
          "data": {
            "text/plain": [
              "100"
            ]
          },
          "metadata": {},
          "execution_count": 140
        }
      ]
    },
    {
      "cell_type": "code",
      "source": [
        "np.linspace(1,10)"
      ],
      "metadata": {
        "colab": {
          "base_uri": "https://localhost:8080/"
        },
        "id": "8f3fA-VghNFp",
        "outputId": "4ac0aace-e75d-4b4f-a06b-4e811b17a342"
      },
      "execution_count": null,
      "outputs": [
        {
          "output_type": "execute_result",
          "data": {
            "text/plain": [
              "array([ 1.        ,  1.18367347,  1.36734694,  1.55102041,  1.73469388,\n",
              "        1.91836735,  2.10204082,  2.28571429,  2.46938776,  2.65306122,\n",
              "        2.83673469,  3.02040816,  3.20408163,  3.3877551 ,  3.57142857,\n",
              "        3.75510204,  3.93877551,  4.12244898,  4.30612245,  4.48979592,\n",
              "        4.67346939,  4.85714286,  5.04081633,  5.2244898 ,  5.40816327,\n",
              "        5.59183673,  5.7755102 ,  5.95918367,  6.14285714,  6.32653061,\n",
              "        6.51020408,  6.69387755,  6.87755102,  7.06122449,  7.24489796,\n",
              "        7.42857143,  7.6122449 ,  7.79591837,  7.97959184,  8.16326531,\n",
              "        8.34693878,  8.53061224,  8.71428571,  8.89795918,  9.08163265,\n",
              "        9.26530612,  9.44897959,  9.63265306,  9.81632653, 10.        ])"
            ]
          },
          "metadata": {},
          "execution_count": 141
        }
      ]
    },
    {
      "cell_type": "code",
      "source": [
        "np.zeros((2,3),dtype=int)"
      ],
      "metadata": {
        "colab": {
          "base_uri": "https://localhost:8080/"
        },
        "id": "E3bOJAOvjtrp",
        "outputId": "cfccbf5a-5276-49e2-bffd-3352832c83de"
      },
      "execution_count": null,
      "outputs": [
        {
          "output_type": "execute_result",
          "data": {
            "text/plain": [
              "array([[0, 0, 0],\n",
              "       [0, 0, 0]])"
            ]
          },
          "metadata": {},
          "execution_count": 142
        }
      ]
    },
    {
      "cell_type": "code",
      "source": [
        "np.ones((3,3),dtype=float)"
      ],
      "metadata": {
        "colab": {
          "base_uri": "https://localhost:8080/"
        },
        "id": "4-hf0wNTj8e9",
        "outputId": "c183af89-485f-40a4-88b8-27012f70ab7d"
      },
      "execution_count": null,
      "outputs": [
        {
          "output_type": "execute_result",
          "data": {
            "text/plain": [
              "array([[1., 1., 1.],\n",
              "       [1., 1., 1.],\n",
              "       [1., 1., 1.]])"
            ]
          },
          "metadata": {},
          "execution_count": 143
        }
      ]
    },
    {
      "cell_type": "markdown",
      "source": [
        "Array Creation Methods\n",
        "\n",
        "create a array using arange"
      ],
      "metadata": {
        "id": "dz7lzwO-mjr7"
      }
    },
    {
      "cell_type": "code",
      "source": [
        "np.arange(1,20,2)"
      ],
      "metadata": {
        "colab": {
          "base_uri": "https://localhost:8080/"
        },
        "id": "mb0203tcmY5x",
        "outputId": "66a7fe36-17db-4771-a73c-6b4bce353002"
      },
      "execution_count": null,
      "outputs": [
        {
          "output_type": "execute_result",
          "data": {
            "text/plain": [
              "array([ 1,  3,  5,  7,  9, 11, 13, 15, 17, 19])"
            ]
          },
          "metadata": {},
          "execution_count": 144
        }
      ]
    },
    {
      "cell_type": "markdown",
      "source": [
        "creating a array using linspace"
      ],
      "metadata": {
        "id": "wvBVKpQtm36-"
      }
    },
    {
      "cell_type": "code",
      "source": [
        "np.linspace(1,10,5)"
      ],
      "metadata": {
        "id": "1xczXBy2m7el",
        "colab": {
          "base_uri": "https://localhost:8080/"
        },
        "outputId": "5f63a2fd-183c-475c-85b1-907a3c98202d"
      },
      "execution_count": null,
      "outputs": [
        {
          "output_type": "execute_result",
          "data": {
            "text/plain": [
              "array([ 1.  ,  3.25,  5.5 ,  7.75, 10.  ])"
            ]
          },
          "metadata": {},
          "execution_count": 145
        }
      ]
    },
    {
      "cell_type": "markdown",
      "source": [
        "creating array using zeros 1D"
      ],
      "metadata": {
        "id": "Z1ZO-u2Xozoe"
      }
    },
    {
      "cell_type": "code",
      "source": [
        "np.zeros(3)"
      ],
      "metadata": {
        "colab": {
          "base_uri": "https://localhost:8080/"
        },
        "id": "E5OdRtEZp0Me",
        "outputId": "3dd1b357-8f1e-4235-b93e-87f148065854"
      },
      "execution_count": null,
      "outputs": [
        {
          "output_type": "execute_result",
          "data": {
            "text/plain": [
              "array([0., 0., 0.])"
            ]
          },
          "metadata": {},
          "execution_count": 146
        }
      ]
    },
    {
      "cell_type": "markdown",
      "source": [
        "creating array using zeros - 2D"
      ],
      "metadata": {
        "id": "JBn9M-zNp95P"
      }
    },
    {
      "cell_type": "code",
      "source": [
        "np.zeros((2,3))"
      ],
      "metadata": {
        "colab": {
          "base_uri": "https://localhost:8080/"
        },
        "id": "zbURakJqqBgK",
        "outputId": "41072d4e-5ecb-4335-eeda-97ca2f3b8ff6"
      },
      "execution_count": null,
      "outputs": [
        {
          "output_type": "execute_result",
          "data": {
            "text/plain": [
              "array([[0., 0., 0.],\n",
              "       [0., 0., 0.]])"
            ]
          },
          "metadata": {},
          "execution_count": 147
        }
      ]
    },
    {
      "cell_type": "markdown",
      "source": [
        "creating array using zeros - 3D"
      ],
      "metadata": {
        "id": "-iUjI5PfqX-K"
      }
    },
    {
      "cell_type": "code",
      "source": [
        "np.zeros((1,2,3))"
      ],
      "metadata": {
        "colab": {
          "base_uri": "https://localhost:8080/"
        },
        "id": "36t8ELahqcI6",
        "outputId": "156a3424-f77b-4068-a6f8-f8b5d4fd4470"
      },
      "execution_count": null,
      "outputs": [
        {
          "output_type": "execute_result",
          "data": {
            "text/plain": [
              "array([[[0., 0., 0.],\n",
              "        [0., 0., 0.]]])"
            ]
          },
          "metadata": {},
          "execution_count": 148
        }
      ]
    },
    {
      "cell_type": "markdown",
      "source": [],
      "metadata": {
        "id": "0xor40CDqWak"
      }
    },
    {
      "cell_type": "code",
      "source": [
        "a = np.array([10,20,30,40,50])\n",
        "a"
      ],
      "metadata": {
        "colab": {
          "base_uri": "https://localhost:8080/"
        },
        "id": "FD0-rO-H1jT9",
        "outputId": "b7ff2b02-d5f0-43d7-f1a9-4d98c19cb5cf"
      },
      "execution_count": null,
      "outputs": [
        {
          "output_type": "execute_result",
          "data": {
            "text/plain": [
              "array([10, 20, 30, 40, 50])"
            ]
          },
          "metadata": {},
          "execution_count": 149
        }
      ]
    },
    {
      "cell_type": "code",
      "source": [
        "b = a.copy()\n",
        "b[4]=5000\n",
        "print(a)\n",
        "print(b)"
      ],
      "metadata": {
        "colab": {
          "base_uri": "https://localhost:8080/"
        },
        "id": "4qQ4Bzrf1zZ2",
        "outputId": "83fc5dd2-f366-4d3a-bbff-4284d4060d4c"
      },
      "execution_count": null,
      "outputs": [
        {
          "output_type": "stream",
          "name": "stdout",
          "text": [
            "[10 20 30 40 50]\n",
            "[  10   20   30   40 5000]\n"
          ]
        }
      ]
    },
    {
      "cell_type": "code",
      "source": [
        "c = a.view()\n",
        "c[3] = 100\n",
        "print(a)\n",
        "print(c)"
      ],
      "metadata": {
        "colab": {
          "base_uri": "https://localhost:8080/"
        },
        "id": "dd25qz586p-D",
        "outputId": "cae02eee-d95b-4c8c-bd8d-c073bc486250"
      },
      "execution_count": null,
      "outputs": [
        {
          "output_type": "stream",
          "name": "stdout",
          "text": [
            "[ 10  20  30 100  50]\n",
            "[ 10  20  30 100  50]\n"
          ]
        }
      ]
    },
    {
      "cell_type": "code",
      "source": [
        "age = np.array([25,28,32,45,50])\n",
        "print(age)\n",
        "print(age.ndim)\n",
        "print(age.size)"
      ],
      "metadata": {
        "colab": {
          "base_uri": "https://localhost:8080/"
        },
        "id": "LI0SRN8w630g",
        "outputId": "eee41745-1a2a-4371-92cd-a1e7a4f272e9"
      },
      "execution_count": null,
      "outputs": [
        {
          "output_type": "stream",
          "name": "stdout",
          "text": [
            "[25 28 32 45 50]\n",
            "1\n",
            "5\n"
          ]
        }
      ]
    },
    {
      "cell_type": "markdown",
      "source": [
        "You are asked to record hourly temperature readings from 6 AM to 6 PM (12 readings), starting from 6 and increasing by 1 hour each time."
      ],
      "metadata": {
        "id": "lbZoG5bD-paz"
      }
    },
    {
      "cell_type": "code",
      "source": [
        "time = np.arange(6,18)\n",
        "a = np.repeat(time,3)\n",
        "print(a)\n",
        "b = np.full\n",
        "print(b)\n"
      ],
      "metadata": {
        "colab": {
          "base_uri": "https://localhost:8080/"
        },
        "id": "RKAVsfPM-stz",
        "outputId": "be265477-338b-4392-f31e-e0f33c59576e"
      },
      "execution_count": null,
      "outputs": [
        {
          "output_type": "stream",
          "name": "stdout",
          "text": [
            "[ 6  6  6  7  7  7  8  8  8  9  9  9 10 10 10 11 11 11 12 12 12 13 13 13\n",
            " 14 14 14 15 15 15 16 16 16 17 17 17]\n",
            "<function full at 0x7db964f71bc0>\n"
          ]
        }
      ]
    },
    {
      "cell_type": "markdown",
      "source": [
        "A machine learning engineer is initializing a 5×5 grayscale image matrix where each pixel starts with value 0.Later, she wants to change the center pixel’s value to 255."
      ],
      "metadata": {
        "id": "Tz-myvc0-bIf"
      }
    },
    {
      "cell_type": "code",
      "source": [
        "image = np.zeros((5,5),dtype=int)\n",
        "c_image = image.copy()\n",
        "c_image[2][2] = 255\n",
        "print(c_image)"
      ],
      "metadata": {
        "colab": {
          "base_uri": "https://localhost:8080/"
        },
        "id": "-X1NOX5J9Pm-",
        "outputId": "2afa59df-5ff4-4433-e466-a11501fa509d"
      },
      "execution_count": null,
      "outputs": [
        {
          "output_type": "stream",
          "name": "stdout",
          "text": [
            "[[  0   0   0   0   0]\n",
            " [  0   0   0   0   0]\n",
            " [  0   0 255   0   0]\n",
            " [  0   0   0   0   0]\n",
            " [  0   0   0   0   0]]\n"
          ]
        }
      ]
    },
    {
      "cell_type": "code",
      "source": [
        "sev_mat = np.full((4,4),7)\n",
        "sev_mat"
      ],
      "metadata": {
        "colab": {
          "base_uri": "https://localhost:8080/"
        },
        "id": "D4s1JqdKNj7n",
        "outputId": "e9e192e8-30a2-41f1-8d7f-d5471b3b3173"
      },
      "execution_count": null,
      "outputs": [
        {
          "output_type": "execute_result",
          "data": {
            "text/plain": [
              "array([[7, 7, 7, 7],\n",
              "       [7, 7, 7, 7],\n",
              "       [7, 7, 7, 7],\n",
              "       [7, 7, 7, 7]])"
            ]
          },
          "metadata": {},
          "execution_count": 155
        }
      ]
    },
    {
      "cell_type": "code",
      "source": [
        "ident_mat = np.identity(4)\n",
        "ident_mat"
      ],
      "metadata": {
        "colab": {
          "base_uri": "https://localhost:8080/"
        },
        "id": "4CmgOpgfOD9D",
        "outputId": "3b83d021-e4f0-4f35-fdaf-2e787799baab"
      },
      "execution_count": null,
      "outputs": [
        {
          "output_type": "execute_result",
          "data": {
            "text/plain": [
              "array([[1., 0., 0., 0.],\n",
              "       [0., 1., 0., 0.],\n",
              "       [0., 0., 1., 0.],\n",
              "       [0., 0., 0., 1.]])"
            ]
          },
          "metadata": {},
          "execution_count": 156
        }
      ]
    },
    {
      "cell_type": "markdown",
      "source": [
        "Project 1 : Student details"
      ],
      "metadata": {
        "id": "ESEIMOcWSCxv"
      }
    },
    {
      "cell_type": "code",
      "source": [
        "st_id = np.arange(5)\n",
        "st_sub = np.array(['011','012','013','014'])\n",
        "st_marks = np.array([90,85,80,75,50,34,20,10,98,89,69,96,34,35,35,60,58,55,99,100])\n"
      ],
      "metadata": {
        "id": "kzB3keH-OLVl"
      },
      "execution_count": null,
      "outputs": []
    },
    {
      "cell_type": "code",
      "source": [
        "print(st_id.ndim,st_sub.ndim,st_marks.ndim)\n",
        "print(st_id.size,st_sub.size,st_marks.size)\n",
        "print(st_id.shape,st_sub.shape,st_marks.shape)\n",
        "print(st_marks)\n"
      ],
      "metadata": {
        "colab": {
          "base_uri": "https://localhost:8080/"
        },
        "id": "875SPlQiS7sn",
        "outputId": "4dfed2cf-f74e-443a-866c-92b824b17831"
      },
      "execution_count": null,
      "outputs": [
        {
          "output_type": "stream",
          "name": "stdout",
          "text": [
            "1 1 1\n",
            "5 4 20\n",
            "(5,) (4,) (20,)\n",
            "[ 90  85  80  75  50  34  20  10  98  89  69  96  34  35  35  60  58  55\n",
            "  99 100]\n"
          ]
        }
      ]
    },
    {
      "cell_type": "code",
      "source": [
        "st_id_reshape = st_id.reshape(1,-1)"
      ],
      "metadata": {
        "colab": {
          "base_uri": "https://localhost:8080/"
        },
        "id": "3C6HYDwgUk6S",
        "outputId": "87db8907-d770-4e14-b364-47c7026d4b75"
      },
      "execution_count": null,
      "outputs": [
        {
          "output_type": "execute_result",
          "data": {
            "text/plain": [
              "array([[ 90,  85,  80,  75],\n",
              "       [ 50,  34,  20,  10],\n",
              "       [ 98,  89,  69,  96],\n",
              "       [ 34,  35,  35,  60],\n",
              "       [ 58,  55,  99, 100]])"
            ]
          },
          "metadata": {},
          "execution_count": 176
        }
      ]
    }
  ]
}